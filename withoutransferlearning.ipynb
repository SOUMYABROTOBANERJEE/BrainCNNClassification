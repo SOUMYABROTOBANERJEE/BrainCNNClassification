{
 "cells": [
  {
   "cell_type": "code",
   "execution_count": 2,
   "metadata": {},
   "outputs": [],
   "source": [
    "import warnings\n",
    "warnings.filterwarnings(\"ignore\")\n",
    "import tensorflow as tf\n",
    "from tensorflow.keras import layers\n",
    "from tensorflow.keras import preprocessing\n",
    "from tensorflow.keras import models\n",
    "from tensorflow.keras.layers import Conv2D\n",
    "from tensorflow.keras.layers import Dense\n",
    "from tensorflow.keras.layers import Flatten\n",
    "from tensorflow.keras.preprocessing import image\n",
    "from tensorflow.keras.layers import MaxPooling2D\n",
    "from tensorflow.keras.models import Sequential\n",
    "import numpy as np"
   ]
  },
  {
   "cell_type": "code",
   "execution_count": 3,
   "metadata": {},
   "outputs": [
    {
     "name": "stdout",
     "output_type": "stream",
     "text": [
      "WARNING:tensorflow:From D:\\Users\\SoumyabrotoBanerjee\\Anaconda3\\lib\\site-packages\\tensorflow\\python\\ops\\resource_variable_ops.py:435: colocate_with (from tensorflow.python.framework.ops) is deprecated and will be removed in a future version.\n",
      "Instructions for updating:\n",
      "Colocations handled automatically by placer.\n"
     ]
    }
   ],
   "source": [
    "# Configure the CNN (Convolutional Neural Network).\n",
    "\n",
    "classifier = Sequential()\n",
    "\n",
    "# Convolution - extracting appropriate features from the input image.\n",
    "# Non-Linearity (RELU) - replacing all negative pixel values in feature map by zero.\n",
    "\n",
    "classifier.add(Conv2D(32, (3, 3), input_shape=(224, 224, 3),\n",
    "               activation='relu'))\n",
    "\n",
    "# Pooling: reduces dimensionality of the feature maps but keeps the most important information.\n",
    "\n",
    "classifier.add(MaxPooling2D(pool_size=(2, 2)))\n",
    "\n",
    "# Adding a second convolutional layer and flattening in order to arrange 3D volumes into a 1D vector.\n",
    "\n",
    "classifier.add(Conv2D(32, (3, 3), activation='relu'))\n",
    "classifier.add(MaxPooling2D(pool_size=(2, 2)))\n",
    "classifier.add(Flatten())\n",
    "\n",
    "# Fully connected layers: ensures connections to all activations in the previous layer.\n",
    "\n",
    "classifier.add(Dense(units=128, activation='relu'))\n",
    "classifier.add(Dense(units=2, activation='sigmoid'))"
   ]
  },
  {
   "cell_type": "code",
   "execution_count": 5,
   "metadata": {},
   "outputs": [],
   "source": [
    "from tensorflow.keras.preprocessing.image import ImageDataGenerator"
   ]
  },
  {
   "cell_type": "code",
   "execution_count": 7,
   "metadata": {
    "scrolled": true
   },
   "outputs": [
    {
     "name": "stdout",
     "output_type": "stream",
     "text": [
      "Found 253 images belonging to 2 classes.\n"
     ]
    }
   ],
   "source": [
    "train_datagen=ImageDataGenerator(rescale=1. / 255, shear_range=0.2,\n",
    "        zoom_range=0.2, horizontal_flip=True)\n",
    "train_generator=train_datagen.flow_from_directory('Data/Training', # this is where you specify the path to the main data folder\n",
    "                                                 target_size=(224,224),\n",
    "                                                 color_mode='rgb',\n",
    "                                                 batch_size=32,\n",
    "                                                 class_mode='categorical',\n",
    "                                                 shuffle=True)"
   ]
  },
  {
   "cell_type": "code",
   "execution_count": 8,
   "metadata": {},
   "outputs": [
    {
     "name": "stdout",
     "output_type": "stream",
     "text": [
      "253\n",
      "32\n",
      "7\n"
     ]
    }
   ],
   "source": [
    "print(train_generator.n)\n",
    "print(train_generator.batch_size)\n",
    "print(train_generator.n//train_generator.batch_size)"
   ]
  },
  {
   "cell_type": "code",
   "execution_count": 9,
   "metadata": {},
   "outputs": [],
   "source": [
    "classifier.compile(optimizer='Adam',\n",
    "              loss='binary_crossentropy',\n",
    "              metrics=['accuracy'])"
   ]
  },
  {
   "cell_type": "code",
   "execution_count": 53,
   "metadata": {},
   "outputs": [
    {
     "name": "stdout",
     "output_type": "stream",
     "text": [
      "Epoch 1/20\n",
      "7/7 [==============================] - 26s 4s/step - loss: 3.7076 - accuracy: 0.5814\n",
      "Epoch 2/20\n",
      "7/7 [==============================] - 22s 3s/step - loss: 0.8973 - accuracy: 0.6041\n",
      "Epoch 3/20\n",
      "7/7 [==============================] - 22s 3s/step - loss: 0.6577 - accuracy: 0.6964\n",
      "Epoch 4/20\n",
      "7/7 [==============================] - 22s 3s/step - loss: 0.6296 - accuracy: 0.6606\n",
      "Epoch 5/20\n",
      "7/7 [==============================] - 23s 3s/step - loss: 0.5384 - accuracy: 0.7366\n",
      "Epoch 6/20\n",
      "7/7 [==============================] - 24s 3s/step - loss: 0.5081 - accuracy: 0.7500\n",
      "Epoch 7/20\n",
      "7/7 [==============================] - 24s 3s/step - loss: 0.4597 - accuracy: 0.8058\n",
      "Epoch 8/20\n",
      "7/7 [==============================] - 25s 4s/step - loss: 0.4334 - accuracy: 0.8122\n",
      "Epoch 9/20\n",
      "7/7 [==============================] - 24s 3s/step - loss: 0.4241 - accuracy: 0.8054\n",
      "Epoch 10/20\n",
      "7/7 [==============================] - 27s 4s/step - loss: 0.4005 - accuracy: 0.8036\n",
      "Epoch 11/20\n",
      "7/7 [==============================] - 22s 3s/step - loss: 0.4316 - accuracy: 0.8028\n",
      "Epoch 12/20\n",
      "7/7 [==============================] - 22s 3s/step - loss: 0.3626 - accuracy: 0.8772\n",
      "Epoch 13/20\n",
      "7/7 [==============================] - 22s 3s/step - loss: 0.4163 - accuracy: 0.7964\n",
      "Epoch 14/20\n",
      "7/7 [==============================] - 24s 3s/step - loss: 0.3729 - accuracy: 0.8484\n",
      "Epoch 15/20\n",
      "7/7 [==============================] - 22s 3s/step - loss: 0.3424 - accuracy: 0.8778\n",
      "Epoch 16/20\n",
      "7/7 [==============================] - 21s 3s/step - loss: 0.3894 - accuracy: 0.8416\n",
      "Epoch 17/20\n",
      "7/7 [==============================] - 22s 3s/step - loss: 0.3985 - accuracy: 0.8100\n",
      "Epoch 18/20\n",
      "7/7 [==============================] - 23s 3s/step - loss: 0.3733 - accuracy: 0.8416\n",
      "Epoch 19/20\n",
      "7/7 [==============================] - 24s 3s/step - loss: 0.3011 - accuracy: 0.8824\n",
      "Epoch 20/20\n",
      "7/7 [==============================] - 24s 3s/step - loss: 0.2990 - accuracy: 0.8750\n"
     ]
    }
   ],
   "source": [
    "step_size_train=train_generator.n//train_generator.batch_size\n",
    "r = classifier.fit_generator(generator=train_generator,\n",
    "                   steps_per_epoch=step_size_train,\n",
    "                   epochs=20)"
   ]
  },
  {
   "cell_type": "code",
   "execution_count": 54,
   "metadata": {},
   "outputs": [
    {
     "name": "stdout",
     "output_type": "stream",
     "text": [
      "dict_keys(['loss', 'accuracy'])\n"
     ]
    },
    {
     "data": {
      "image/png": "[encoded data removed]",
      "text/plain": [
       "<Figure size 432x288 with 1 Axes>"
      ]
     },
     "metadata": {
      "needs_background": "light"
     },
     "output_type": "display_data"
    }
   ],
   "source": [
    "# Plot training and validation loss/accuracy\n",
    "import matplotlib.pyplot as plt\n",
    "print(r.history.keys())\n",
    "# Loss\n",
    "plt.plot(r.history['loss'])\n",
    "plt.title('model loss')\n",
    "plt.ylabel('loss')\n",
    "plt.xlabel('epoch')\n",
    "plt.show()"
   ]
  },
  {
   "cell_type": "code",
   "execution_count": 47,
   "metadata": {},
   "outputs": [
    {
     "data": {
      "image/png": "[encoded data removed]",
      "text/plain": [
       "<Figure size 432x288 with 1 Axes>"
      ]
     },
     "metadata": {
      "needs_background": "light"
     },
     "output_type": "display_data"
    }
   ],
   "source": [
    "plt.plot(r.history['accuracy'])\n",
    "plt.title('model accuracy')\n",
    "plt.ylabel('accuracy')\n",
    "plt.xlabel('epoch')\n",
    "plt.show()"
   ]
  },
  {
   "cell_type": "code",
   "execution_count": null,
   "metadata": {},
   "outputs": [],
   "source": []
  },
  {
   "cell_type": "code",
   "execution_count": null,
   "metadata": {},
   "outputs": [],
   "source": []
  },
  {
   "cell_type": "code",
   "execution_count": null,
   "metadata": {},
   "outputs": [],
   "source": []
  },
  {
   "cell_type": "code",
   "execution_count": null,
   "metadata": {},
   "outputs": [],
   "source": []
  },
  {
   "cell_type": "code",
   "execution_count": null,
   "metadata": {},
   "outputs": [],
   "source": []
  },
  {
   "cell_type": "code",
   "execution_count": null,
   "metadata": {},
   "outputs": [],
   "source": []
  },
  {
   "cell_type": "code",
   "execution_count": null,
   "metadata": {},
   "outputs": [],
   "source": []
  },
  {
   "cell_type": "code",
   "execution_count": null,
   "metadata": {},
   "outputs": [],
   "source": []
  },
  {
   "cell_type": "code",
   "execution_count": null,
   "metadata": {},
   "outputs": [],
   "source": []
  }
 ],
 "metadata": {
  "kernelspec": {
   "display_name": "Python 3",
   "language": "python",
   "name": "python3"
  },
  "language_info": {
   "codemirror_mode": {
    "name": "ipython",
    "version": 3
   },
   "file_extension": ".py",
   "mimetype": "text/x-python",
   "name": "python",
   "nbconvert_exporter": "python",
   "pygments_lexer": "ipython3",
   "version": "3.7.3"
  }
 },
 "nbformat": 4,
 "nbformat_minor": 2
}
