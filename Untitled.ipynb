{
 "cells": [
  {
   "cell_type": "code",
   "execution_count": 5,
   "metadata": {},
   "outputs": [],
   "source": [
    "from medpy.io import load\n",
    "image_data, image_header = load('C:\\\\Users\\\\Soumyabroto Banerjee\\\\Desktop\\\\References of College Project\\\\BRATS2015_Training\\\\BRATS2015_Training\\\\HGG\\\\brats_tcia_pat118_0001\\\\VSD.Brain_3more.XX.O.OT.42293\\\\VSD.Brain_3more.XX.O.OT.42293.mha')"
   ]
  },
  {
   "cell_type": "code",
   "execution_count": 11,
   "metadata": {},
   "outputs": [],
   "source": [
    "import cv2\n",
    "import numpy as np"
   ]
  },
  {
   "cell_type": "code",
   "execution_count": 12,
   "metadata": {},
   "outputs": [
    {
     "data": {
      "text/plain": [
       "array([0, 1, 2, 3, 4], dtype=uint8)"
      ]
     },
     "execution_count": 12,
     "metadata": {},
     "output_type": "execute_result"
    }
   ],
   "source": [
    "np.unique(image_data)"
   ]
  },
  {
   "cell_type": "code",
   "execution_count": 13,
   "metadata": {},
   "outputs": [
    {
     "data": {
      "text/plain": [
       "(240, 240, 155)"
      ]
     },
     "execution_count": 13,
     "metadata": {},
     "output_type": "execute_result"
    }
   ],
   "source": [
    "image_data.shape"
   ]
  },
  {
   "cell_type": "code",
   "execution_count": 15,
   "metadata": {},
   "outputs": [
    {
     "ename": "RuntimeError",
     "evalue": "Exception thrown in SimpleITK WriteImage: D:\\a\\1\\sitk-build\\ITK\\Modules\\IO\\JPEG\\src\\itkJPEGImageIO.cxx:448:\nitk::ERROR: JPEGImageIO(0000024960159F70): JPEG Writer can only write 2-dimensional images",
     "output_type": "error",
     "traceback": [
      "\u001b[1;31m---------------------------------------------------------------------------\u001b[0m",
      "\u001b[1;31mRuntimeError\u001b[0m                              Traceback (most recent call last)",
      "\u001b[1;32m<ipython-input-15-ef0e26152aaa>\u001b[0m in \u001b[0;36m<module>\u001b[1;34m\u001b[0m\n\u001b[0;32m      1\u001b[0m \u001b[1;32mfrom\u001b[0m \u001b[0mmedpy\u001b[0m\u001b[1;33m.\u001b[0m\u001b[0mio\u001b[0m \u001b[1;32mimport\u001b[0m \u001b[0msave\u001b[0m\u001b[1;33m\u001b[0m\u001b[1;33m\u001b[0m\u001b[0m\n\u001b[1;32m----> 2\u001b[1;33m \u001b[0msave\u001b[0m\u001b[1;33m(\u001b[0m\u001b[0mimage_data\u001b[0m\u001b[1;33m,\u001b[0m \u001b[1;34m'otsu.jpg'\u001b[0m\u001b[1;33m,\u001b[0m \u001b[0mimage_header\u001b[0m\u001b[1;33m)\u001b[0m\u001b[1;33m\u001b[0m\u001b[1;33m\u001b[0m\u001b[0m\n\u001b[0m",
      "\u001b[1;32mD:\\Users\\SoumyabrotoBanerjee\\Anaconda3\\lib\\site-packages\\medpy\\io\\save.py\u001b[0m in \u001b[0;36msave\u001b[1;34m(arr, filename, hdr, force, use_compression)\u001b[0m\n\u001b[0;32m    118\u001b[0m         \u001b[0mhdr\u001b[0m\u001b[1;33m.\u001b[0m\u001b[0mcopy_to\u001b[0m\u001b[1;33m(\u001b[0m\u001b[0msitkimage\u001b[0m\u001b[1;33m)\u001b[0m\u001b[1;33m\u001b[0m\u001b[1;33m\u001b[0m\u001b[0m\n\u001b[0;32m    119\u001b[0m \u001b[1;33m\u001b[0m\u001b[0m\n\u001b[1;32m--> 120\u001b[1;33m     \u001b[0msitk\u001b[0m\u001b[1;33m.\u001b[0m\u001b[0mWriteImage\u001b[0m\u001b[1;33m(\u001b[0m\u001b[0msitkimage\u001b[0m\u001b[1;33m,\u001b[0m \u001b[0mfilename\u001b[0m\u001b[1;33m,\u001b[0m \u001b[0muse_compression\u001b[0m\u001b[1;33m)\u001b[0m\u001b[1;33m\u001b[0m\u001b[1;33m\u001b[0m\u001b[0m\n\u001b[0m",
      "\u001b[1;32mD:\\Users\\SoumyabrotoBanerjee\\Anaconda3\\lib\\site-packages\\SimpleITK\\SimpleITK.py\u001b[0m in \u001b[0;36mWriteImage\u001b[1;34m(*args)\u001b[0m\n\u001b[0;32m   8205\u001b[0m \u001b[1;33m\u001b[0m\u001b[0m\n\u001b[0;32m   8206\u001b[0m     \"\"\"\n\u001b[1;32m-> 8207\u001b[1;33m     \u001b[1;32mreturn\u001b[0m \u001b[0m_SimpleITK\u001b[0m\u001b[1;33m.\u001b[0m\u001b[0mWriteImage\u001b[0m\u001b[1;33m(\u001b[0m\u001b[1;33m*\u001b[0m\u001b[0margs\u001b[0m\u001b[1;33m)\u001b[0m\u001b[1;33m\u001b[0m\u001b[1;33m\u001b[0m\u001b[0m\n\u001b[0m\u001b[0;32m   8208\u001b[0m \u001b[1;32mclass\u001b[0m \u001b[0mImageReaderBase\u001b[0m\u001b[1;33m(\u001b[0m\u001b[0mProcessObject\u001b[0m\u001b[1;33m)\u001b[0m\u001b[1;33m:\u001b[0m\u001b[1;33m\u001b[0m\u001b[1;33m\u001b[0m\u001b[0m\n\u001b[0;32m   8209\u001b[0m     \"\"\"\n",
      "\u001b[1;31mRuntimeError\u001b[0m: Exception thrown in SimpleITK WriteImage: D:\\a\\1\\sitk-build\\ITK\\Modules\\IO\\JPEG\\src\\itkJPEGImageIO.cxx:448:\nitk::ERROR: JPEGImageIO(0000024960159F70): JPEG Writer can only write 2-dimensional images"
     ]
    }
   ],
   "source": [
    "from medpy.io import save\n",
    "save(image_data, 'otsu.jpg', image_header)"
   ]
  },
  {
   "cell_type": "code",
   "execution_count": null,
   "metadata": {},
   "outputs": [],
   "source": []
  }
 ],
 "metadata": {
  "kernelspec": {
   "display_name": "Python 3",
   "language": "python",
   "name": "python3"
  },
  "language_info": {
   "codemirror_mode": {
    "name": "ipython",
    "version": 3
   },
   "file_extension": ".py",
   "mimetype": "text/x-python",
   "name": "python",
   "nbconvert_exporter": "python",
   "pygments_lexer": "ipython3",
   "version": "3.7.3"
  }
 },
 "nbformat": 4,
 "nbformat_minor": 2
}
